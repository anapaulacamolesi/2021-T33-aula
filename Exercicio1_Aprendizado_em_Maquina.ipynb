{
  "nbformat": 4,
  "nbformat_minor": 0,
  "metadata": {
    "colab": {
      "name": "Exercicio1 - Aprendizado em Maquina.ipynb",
      "provenance": [],
      "authorship_tag": "ABX9TyN22IVXxPtiz9/ZZpVD9lYn",
      "include_colab_link": true
    },
    "kernelspec": {
      "name": "python3",
      "display_name": "Python 3"
    },
    "language_info": {
      "name": "python"
    }
  },
  "cells": [
    {
      "cell_type": "markdown",
      "metadata": {
        "id": "view-in-github",
        "colab_type": "text"
      },
      "source": [
        "<a href=\"https://colab.research.google.com/github/anapaulacamolesi/2021-T33-aula/blob/main/Exercicio1_Aprendizado_em_Maquina.ipynb\" target=\"_parent\"><img src=\"https://colab.research.google.com/assets/colab-badge.svg\" alt=\"Open In Colab\"/></a>"
      ]
    },
    {
      "cell_type": "markdown",
      "source": [
        "P = Hoje está chovendo; Q = rua está molhada;     Traduza para: Se hoje está chovendo então a rua está molhada."
      ],
      "metadata": {
        "id": "8vcUad4kzkPN"
      }
    },
    {
      "cell_type": "code",
      "execution_count": 1,
      "metadata": {
        "id": "PDkJrjmQxRW1"
      },
      "outputs": [],
      "source": [
        "P = [\"Hoje está chovendo\", True]\n",
        "Q = [\"Rua está molhada\", True]"
      ]
    },
    {
      "cell_type": "code",
      "source": [
        "print(P[1])\n",
        "print(Q[1])"
      ],
      "metadata": {
        "colab": {
          "base_uri": "https://localhost:8080/"
        },
        "id": "4JP0E2qHxxgO",
        "outputId": "20b734d4-55cb-4ee6-9ede-234844a22659"
      },
      "execution_count": 2,
      "outputs": [
        {
          "output_type": "stream",
          "name": "stdout",
          "text": [
            "True\n",
            "True\n"
          ]
        }
      ]
    },
    {
      "cell_type": "code",
      "source": [
        "if P[1]:\n",
        "  print(P[0]+ \" \" + Q[0])"
      ],
      "metadata": {
        "colab": {
          "base_uri": "https://localhost:8080/"
        },
        "id": "pUIJmrsTx7F5",
        "outputId": "b1887768-6e23-44a9-8de5-c2bf417dd349"
      },
      "execution_count": null,
      "outputs": [
        {
          "output_type": "stream",
          "name": "stdout",
          "text": [
            "Hoje está chovendo Rua está molhada\n"
          ]
        }
      ]
    },
    {
      "cell_type": "markdown",
      "source": [
        "P = O carro anda; Q = corre em alguma rua;   Traduza para: Se o carro anda, então corre em alguma rua"
      ],
      "metadata": {
        "id": "RFmhd_oI0POR"
      }
    },
    {
      "cell_type": "code",
      "source": [
        "P = [\"O carro anda\", True]\n",
        "Q = [\"corre em alguma rua\", True]"
      ],
      "metadata": {
        "id": "ia9ZwhAw06Rl"
      },
      "execution_count": 33,
      "outputs": []
    },
    {
      "cell_type": "code",
      "source": [
        "if P[1]:\n",
        "  print(\"Se \" + P[0] + \", então \" +Q[0])"
      ],
      "metadata": {
        "colab": {
          "base_uri": "https://localhost:8080/"
        },
        "id": "T5C3rQvm1F8J",
        "outputId": "fee51477-b911-4fa3-eab5-be2df46059e5"
      },
      "execution_count": 36,
      "outputs": [
        {
          "output_type": "stream",
          "name": "stdout",
          "text": [
            "Se O carro anda, então corre em alguma rua\n"
          ]
        }
      ]
    },
    {
      "cell_type": "markdown",
      "source": [
        "# P ^ Q v(~P ^ R): Utilize os seguintes valores: P = True; Q = False; R = False:"
      ],
      "metadata": {
        "id": "KjBu1oeDz1DC"
      }
    },
    {
      "cell_type": "code",
      "source": [
        "P = True\n",
        "Q = False\n",
        "R = False"
      ],
      "metadata": {
        "id": "3-AySTCp0GBL"
      },
      "execution_count": 4,
      "outputs": []
    },
    {
      "cell_type": "code",
      "source": [
        "resultado = P and Q or (not(P) and R)"
      ],
      "metadata": {
        "id": "0J59dAH10JBu"
      },
      "execution_count": 5,
      "outputs": []
    },
    {
      "cell_type": "code",
      "source": [
        "resultado"
      ],
      "metadata": {
        "colab": {
          "base_uri": "https://localhost:8080/"
        },
        "id": "z7-q4MeC0Lyi",
        "outputId": "e5aa0ca3-0998-4fa7-cfcc-e3c61c85bb6d"
      },
      "execution_count": 6,
      "outputs": [
        {
          "output_type": "execute_result",
          "data": {
            "text/plain": [
              "False"
            ]
          },
          "metadata": {},
          "execution_count": 6
        }
      ]
    },
    {
      "cell_type": "markdown",
      "source": [
        "P v (Q ^ R) v R: Utilize os seguintes valores: P = False; Q = True; R = False;"
      ],
      "metadata": {
        "id": "RBmgpZt11l07"
      }
    },
    {
      "cell_type": "code",
      "source": [
        "P = False\n",
        "Q = True\n",
        "R = False"
      ],
      "metadata": {
        "id": "E1Xy_yiW2p5U"
      },
      "execution_count": 7,
      "outputs": []
    },
    {
      "cell_type": "code",
      "source": [
        "resultado = P or(Q and R) or R"
      ],
      "metadata": {
        "id": "3VQrvW7R2zIc"
      },
      "execution_count": 8,
      "outputs": []
    },
    {
      "cell_type": "code",
      "source": [
        "resultado"
      ],
      "metadata": {
        "colab": {
          "base_uri": "https://localhost:8080/"
        },
        "id": "8Or6FJ9F6bEc",
        "outputId": "416705c8-71e3-49fc-f815-367f1c157cee"
      },
      "execution_count": 9,
      "outputs": [
        {
          "output_type": "execute_result",
          "data": {
            "text/plain": [
              "False"
            ]
          },
          "metadata": {},
          "execution_count": 9
        }
      ]
    },
    {
      "cell_type": "markdown",
      "source": [
        "P -> Q v(~P ^ R): P = True; Q = False; R = False;"
      ],
      "metadata": {
        "id": "GJWiXlp_63T8"
      }
    },
    {
      "cell_type": "code",
      "source": [
        "P = True\n",
        "Q = False\n",
        "R = False"
      ],
      "metadata": {
        "id": "YGLZmOtT7JMr"
      },
      "execution_count": 23,
      "outputs": []
    },
    {
      "cell_type": "code",
      "source": [
        "if (P > Q or(not(P) and R)):\n",
        "  print (P)\n",
        "else:\n",
        "  print()"
      ],
      "metadata": {
        "colab": {
          "base_uri": "https://localhost:8080/"
        },
        "id": "7i3Gb_Rh9T9i",
        "outputId": "0e0f8789-e563-4571-d547-8f9e2b5b8ead"
      },
      "execution_count": 24,
      "outputs": [
        {
          "output_type": "stream",
          "name": "stdout",
          "text": [
            "\n"
          ]
        }
      ]
    },
    {
      "cell_type": "markdown",
      "source": [
        "P = Há Sol; Q = rua está seca; Traduza para: Se há Sol, então a rua está seca"
      ],
      "metadata": {
        "id": "yXvT0mA_kvfI"
      }
    },
    {
      "cell_type": "code",
      "source": [
        "P = [\"Há Sol\", True]\n",
        "Q = [\"rua está seca\", True]"
      ],
      "metadata": {
        "id": "MQaLxv4blBO2"
      },
      "execution_count": 22,
      "outputs": []
    },
    {
      "cell_type": "code",
      "source": [
        "print(P[1])\n",
        "print(Q[1])"
      ],
      "metadata": {
        "colab": {
          "base_uri": "https://localhost:8080/"
        },
        "id": "jWseexcYlPn8",
        "outputId": "19c85a6f-c799-4333-fff2-778785079773"
      },
      "execution_count": 27,
      "outputs": [
        {
          "output_type": "stream",
          "name": "stdout",
          "text": [
            "True\n",
            "True\n"
          ]
        }
      ]
    },
    {
      "cell_type": "code",
      "source": [
        "if P[1]:\n",
        "  print(\"Se \" + P[0] + \", então a \" +Q[0])"
      ],
      "metadata": {
        "colab": {
          "base_uri": "https://localhost:8080/"
        },
        "id": "ec7w9OiPlbcQ",
        "outputId": "1bb17f1c-abbf-4305-b748-5ef82ec3d011"
      },
      "execution_count": 31,
      "outputs": [
        {
          "output_type": "stream",
          "name": "stdout",
          "text": [
            "Se Há Sol, então a rua está seca\n"
          ]
        }
      ]
    },
    {
      "cell_type": "markdown",
      "source": [
        "P = Há um Problema; Q= chame o técnico"
      ],
      "metadata": {
        "id": "-qupYiOMl5-W"
      }
    },
    {
      "cell_type": "code",
      "source": [
        "P = [\"Há um problema\", True]\n",
        "Q = [\"chame o técnico\", True]"
      ],
      "metadata": {
        "id": "7y7-iDvbmE_C"
      },
      "execution_count": 37,
      "outputs": []
    },
    {
      "cell_type": "code",
      "source": [
        "if P[1]:\n",
        "  print(\"Se \" + P[0] + \", então \" +Q[0])"
      ],
      "metadata": {
        "colab": {
          "base_uri": "https://localhost:8080/"
        },
        "id": "Whgh5mZwmO0r",
        "outputId": "387056a2-0a61-48ef-eff4-75f24f7c3e13"
      },
      "execution_count": 39,
      "outputs": [
        {
          "output_type": "stream",
          "name": "stdout",
          "text": [
            "Se Há um problema, então chame o técnico\n"
          ]
        }
      ]
    },
    {
      "cell_type": "markdown",
      "source": [
        "(P ^ R) v (^ R)   // T = True; Q = False; R = False;"
      ],
      "metadata": {
        "id": "bD1GUIjTmVDv"
      }
    },
    {
      "cell_type": "code",
      "source": [
        "P = True\n",
        "Q = False\n",
        "R = False"
      ],
      "metadata": {
        "id": "EG9RUbZHmkBc"
      },
      "execution_count": 18,
      "outputs": []
    },
    {
      "cell_type": "code",
      "source": [
        "resultado = (P and R) or (and R)"
      ],
      "metadata": {
        "colab": {
          "base_uri": "https://localhost:8080/",
          "height": 130
        },
        "id": "yE9cQx5hmpEA",
        "outputId": "c76dc8f0-3a05-498d-c50a-16bf509644ec"
      },
      "execution_count": 21,
      "outputs": [
        {
          "output_type": "error",
          "ename": "SyntaxError",
          "evalue": "ignored",
          "traceback": [
            "\u001b[0;36m  File \u001b[0;32m\"<ipython-input-21-5bc7db3c16f4>\"\u001b[0;36m, line \u001b[0;32m1\u001b[0m\n\u001b[0;31m    resultado = (P and R) or (and R)\u001b[0m\n\u001b[0m                                ^\u001b[0m\n\u001b[0;31mSyntaxError\u001b[0m\u001b[0;31m:\u001b[0m invalid syntax\n"
          ]
        }
      ]
    },
    {
      "cell_type": "code",
      "source": [
        "resultado"
      ],
      "metadata": {
        "id": "ZY_NidhynmUv"
      },
      "execution_count": null,
      "outputs": []
    },
    {
      "cell_type": "markdown",
      "source": [
        " P v Q ^ (R) v R     /////// P = False Q = True R = False"
      ],
      "metadata": {
        "id": "fyG8cSA1o_c3"
      }
    },
    {
      "cell_type": "code",
      "source": [
        "P = False\n",
        "Q = True \n",
        "R = False"
      ],
      "metadata": {
        "id": "rHi3zDGYpSp3"
      },
      "execution_count": 10,
      "outputs": []
    },
    {
      "cell_type": "code",
      "source": [
        "resultado = P or Q and (R) or R"
      ],
      "metadata": {
        "id": "WIGu6EL_pV9R"
      },
      "execution_count": 11,
      "outputs": []
    },
    {
      "cell_type": "code",
      "source": [
        "resultado"
      ],
      "metadata": {
        "colab": {
          "base_uri": "https://localhost:8080/"
        },
        "id": "GarL5rujpgzi",
        "outputId": "f18430fe-e485-4764-ae95-07dced50ff4c"
      },
      "execution_count": 12,
      "outputs": [
        {
          "output_type": "execute_result",
          "data": {
            "text/plain": [
              "False"
            ]
          },
          "metadata": {},
          "execution_count": 12
        }
      ]
    },
    {
      "cell_type": "markdown",
      "source": [
        "R -> Q V(p ^ Q v ~R)   //    P = True Q = False R = True"
      ],
      "metadata": {
        "id": "Su-5KM9dq7rf"
      }
    },
    {
      "cell_type": "code",
      "source": [
        "P = True \n",
        "Q = False\n",
        "R = True"
      ],
      "metadata": {
        "id": "JNZDnZbmrPMI"
      },
      "execution_count": 26,
      "outputs": []
    },
    {
      "cell_type": "code",
      "source": [
        "if (R > Q or(P and Q or not R)):\n",
        "  print (R)\n",
        "else:\n",
        "  print()"
      ],
      "metadata": {
        "colab": {
          "base_uri": "https://localhost:8080/"
        },
        "id": "Pimgw4SZrRlE",
        "outputId": "74e06a1a-1020-48f3-e8ee-5194a46684c0"
      },
      "execution_count": 27,
      "outputs": [
        {
          "output_type": "stream",
          "name": "stdout",
          "text": [
            "True\n"
          ]
        }
      ]
    }
  ]
}